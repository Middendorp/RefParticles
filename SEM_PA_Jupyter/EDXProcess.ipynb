{
 "cells": [
  {
   "cell_type": "markdown",
   "metadata": {},
   "source": [
    "# Process EDX\n",
    "This script imports the collected EDX spectra into the *data* dataframe and also saves the spectra as *csv* file for later use. Therefore, at first a special particle/field string is determined, which corresponds to the filename of the EDX spectrum file ([Filestrings](#Filestrings)). Then, a function is defined to import a single spectra ([EDX file import](#EDX-file-import)), after which the spectra for all particles are imported into an array ([Spectra import](#Spectra-import)). Finally, the obtained array is saved as an EDX file ([Export results](#Export-results))."
   ]
  },
  {
   "cell_type": "markdown",
   "metadata": {},
   "source": [
    "#### Preparation\n",
    "As this script is designed to be used both externally and stand-alone, at first some required modules are loaded. Then, some global variables are checked whether they have been created externally and if note, are assigned."
   ]
  },
  {
   "cell_type": "code",
   "execution_count": 1,
   "metadata": {
    "collapsed": true
   },
   "outputs": [],
   "source": [
    "# Import modules\n",
    "import numpy as np\n",
    "import pandas as pd\n",
    "import struct\n",
    "from os import listdir, path"
   ]
  },
  {
   "cell_type": "code",
   "execution_count": 2,
   "metadata": {
    "collapsed": false
   },
   "outputs": [
    {
     "name": "stdout",
     "output_type": "stream",
     "text": [
      "Directory not specified, set to F:\\PA_UC\\\n",
      "Stub not specified, set to 1\n",
      "No data available, running ImportData:\n",
      "File: F:\\PA_UC\\pa_uc.csv\n",
      "Date: 13.12.2016\n",
      "Voltage: 10.0 kV\n",
      "Magnification: 2500x\n",
      "Measurement time: 30.0 s\n",
      "Number of columns: 28\n",
      "Number of particles: 3639\n",
      "Particles on stub 1: 829\n",
      "-----\n",
      "EDX_save not specified, set to False\n",
      "EDX_channels not specified, set to 2086\n"
     ]
    }
   ],
   "source": [
    "# directory\n",
    "try:\n",
    "    directory\n",
    "except NameError:\n",
    "    directory = \"F:\\\\PA_UC\\\\\"\n",
    "    print(\"Directory not specified, set to \"+directory)\n",
    "\n",
    "# stub\n",
    "try:\n",
    "    stub\n",
    "except NameError:\n",
    "    stub = 1\n",
    "    print(\"Stub not specified, set to \"+str(stub))\n",
    "    \n",
    "# data\n",
    "try:\n",
    "    data\n",
    "except NameError:\n",
    "    print(\"No data available, running ImportData:\")\n",
    "    %run ./ImportData.ipynb\n",
    "    print(\"-----\")\n",
    "    \n",
    "# EDX_save\n",
    "try:\n",
    "    EDX_save\n",
    "except NameError:\n",
    "    EDX_save = False\n",
    "    print(\"EDX_save not specified, set to \"+str(EDX_save))\n",
    "    \n",
    "# EDX_channels\n",
    "try:\n",
    "    EDX_channels\n",
    "except NameError:\n",
    "    EDX_channels = 2086\n",
    "    print(\"EDX_channels not specified, set to \"+str(EDX_channels))"
   ]
  },
  {
   "cell_type": "markdown",
   "metadata": {},
   "source": [
    "#### Filestrings\n",
    "The spectra files are saved in a folder and are named according to *ffffpppp.spc*, where *ffff* is the field number and *pppp* is the particle number on field *ffff*. However, as the particle number is not obtained during the data import, it is determined using the following script."
   ]
  },
  {
   "cell_type": "code",
   "execution_count": 3,
   "metadata": {
    "collapsed": false,
    "scrolled": false
   },
   "outputs": [],
   "source": [
    "strStub = 'stub{num:02d}'.format(num=stub)\n",
    "fld_prev = 1\n",
    "partnum = 0\n",
    "fldpart = np.array([])\n",
    "\n",
    "for i in range(len(data)):\n",
    "    fld = int(data.iloc[i][\"fieldnum\"])\n",
    "    if fld!=fld_prev:\n",
    "        # New field, reset particle counter\n",
    "        partnum=1\n",
    "        fld_prev = fld\n",
    "    else:\n",
    "        # Field with more than 1 particle\n",
    "        partnum += 1\n",
    "    fldpart = np.append(fldpart, \"{0:04d}{1:04d}\".format(fld, partnum))\n",
    "\n",
    "#print(fldpart)    "
   ]
  },
  {
   "cell_type": "markdown",
   "metadata": {},
   "source": [
    "#### EDX file import\n",
    "The EDX spectra are saved as binary *spc* files in the */stub##/spc/* directory. A function is defined which opens a single spectra, reads out the relevant bytes and return a numpy array containing the measured intensities. When the requested file doesn't exists, only zeros are returned."
   ]
  },
  {
   "cell_type": "code",
   "execution_count": 4,
   "metadata": {
    "collapsed": false
   },
   "outputs": [],
   "source": [
    "def EDXimport(PartID=0):\n",
    "    global N_EDX\n",
    "    EDXfile = directory+strStub+\"\\\\spc\\\\\"+fldpart[PartID]+\".spc\"\n",
    "    \n",
    "    if(path.isfile(EDXfile)==False):\n",
    "        return np.zeros(EDX_channels)\n",
    "    \n",
    "    N_EDX += 1\n",
    "    with open(EDXfile, 'rb') as f:\n",
    "        spectrum = np.zeros([EDX_channels],dtype=\"uint32\")\n",
    "        i = 0\n",
    "\n",
    "        f.seek(3848)\n",
    "        byte = f.read(4)    \n",
    "        while byte and i<EDX_channels:\n",
    "            spectrum[i] = struct.unpack('I', byte)[0]\n",
    "            byte = f.read(4)\n",
    "            i = i + 1\n",
    "        \n",
    "    return spectrum\n",
    "\n",
    "#print(EDXimport())"
   ]
  },
  {
   "cell_type": "markdown",
   "metadata": {},
   "source": [
    "#### Spectra import\n",
    "After preparing the data and functions, the spectra for all particles can now be imported into the dataframe."
   ]
  },
  {
   "cell_type": "code",
   "execution_count": 5,
   "metadata": {
    "collapsed": false
   },
   "outputs": [
    {
     "name": "stdout",
     "output_type": "stream",
     "text": [
      "Number of EDX spectra: 320\n"
     ]
    }
   ],
   "source": [
    "EDX = np.zeros([EDX_channels])\n",
    "N_EDX = 0\n",
    "for i in range(len(data)):\n",
    "    EDX = np.column_stack((EDX, EDXimport(i)))\n",
    "\n",
    "EDX = np.delete(EDX, (0), axis=1)\n",
    "EDX = np.transpose(EDX)\n",
    "data[\"EDX\"] = EDX.tolist()\n",
    "\n",
    "print(\"Number of EDX spectra: \"+str(N_EDX))"
   ]
  },
  {
   "cell_type": "markdown",
   "metadata": {
    "collapsed": true
   },
   "source": [
    "#### Export results\n",
    "Save the collected spectra in a csv file located in the main stub folder."
   ]
  },
  {
   "cell_type": "code",
   "execution_count": 6,
   "metadata": {
    "collapsed": false
   },
   "outputs": [],
   "source": [
    "if EDX_save:\n",
    "    np.savetxt(directory+strStub+\"\\\\EDX.csv\", EDX, fmt=\"%1.1d\", delimiter=\",\")\n",
    "    print(\"EDX spectra saved to \"+directory+strStub+\"\\\\EDX.csv\")"
   ]
  },
  {
   "cell_type": "code",
   "execution_count": 25,
   "metadata": {
    "collapsed": false
   },
   "outputs": [],
   "source": []
  }
 ],
 "metadata": {
  "anaconda-cloud": {},
  "kernelspec": {
   "display_name": "Python 3",
   "language": "python",
   "name": "python3"
  },
  "language_info": {
   "codemirror_mode": {
    "name": "ipython",
    "version": 3
   },
   "file_extension": ".py",
   "mimetype": "text/x-python",
   "name": "python",
   "nbconvert_exporter": "python",
   "pygments_lexer": "ipython3",
   "version": "3.6.0"
  }
 },
 "nbformat": 4,
 "nbformat_minor": 2
}
