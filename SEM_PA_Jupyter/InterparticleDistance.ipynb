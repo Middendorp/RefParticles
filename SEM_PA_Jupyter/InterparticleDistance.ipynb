{
 "cells": [
  {
   "cell_type": "markdown",
   "metadata": {},
   "source": [
    "# Interparticle distance\n",
    "This script calculates the distance to the nearest particle for each individual particle. It uses the nearest-neighbor method from the skilearn package and the *ball-tree* method ([link](http://scikit-learn.org/stable/modules/neighbors.html#finding-the-nearest-neighbors)).\n",
    "\n",
    "This documents contains the following sectiion/functions:\n",
    "- [Calculation](#Calculation): Calculate the nearest-neighbor distance for each particle."
   ]
  },
  {
   "cell_type": "markdown",
   "metadata": {},
   "source": [
    "#### Preparation\n",
    "As this script is designed to be used both externally and stand-alone, at first some required modules are loaded. Then, some global variables are checked whether they have been created externally and if note, are assigned."
   ]
  },
  {
   "cell_type": "code",
   "execution_count": 1,
   "metadata": {
    "collapsed": true
   },
   "outputs": [],
   "source": [
    "# Import modules\n",
    "import numpy as np\n",
    "import pandas as pd\n",
    "from sklearn.neighbors import NearestNeighbors"
   ]
  },
  {
   "cell_type": "code",
   "execution_count": 2,
   "metadata": {
    "collapsed": false
   },
   "outputs": [
    {
     "name": "stdout",
     "output_type": "stream",
     "text": [
      "dist_required not specified, set to 75\n",
      "Directory not specified, set to F:\\PA_UC\\\n",
      "Stub not specified, set to 1\n",
      "No data available, running ImportData:\n",
      "File: F:\\PA_UC\\pa_uc.csv\n",
      "Date: 13.12.2016\n",
      "Voltage: 10.0 kV\n",
      "Magnification: 2500x\n",
      "Measurement time: 30.0 s\n",
      "Number of columns: 28\n",
      "Number of particles: 3639\n",
      "Particles on stub 1: 829\n",
      "-----\n"
     ]
    }
   ],
   "source": [
    "# dist_required\n",
    "try:\n",
    "    dist_required\n",
    "except:\n",
    "    dist_required = 75\n",
    "    print(\"dist_required not specified, set to \"+str(dist_required))\n",
    "\n",
    "# directory\n",
    "try:\n",
    "    directory\n",
    "except NameError:\n",
    "    directory = \"F:\\\\PA_UC\\\\\"\n",
    "    print(\"Directory not specified, set to \"+directory)\n",
    "\n",
    "# stub\n",
    "try:\n",
    "    stub\n",
    "except NameError:\n",
    "    stub = 1\n",
    "    print(\"Stub not specified, set to \"+str(stub))\n",
    "    \n",
    "# data\n",
    "try:\n",
    "    data\n",
    "except NameError:\n",
    "    print(\"No data available, running ImportData:\")\n",
    "    %run ./ImportData.ipynb\n",
    "    print(\"-----\")"
   ]
  },
  {
   "cell_type": "markdown",
   "metadata": {},
   "source": [
    "#### Calculation\n",
    "The interparticle distance is calculated using the ski-learn package and the *ball-tree* method. It uses the *X* and *Y* columns of the *data* dataframe and adds a column called *dist*, which is the distance to the closest neighbor in um."
   ]
  },
  {
   "cell_type": "code",
   "execution_count": 3,
   "metadata": {
    "collapsed": false
   },
   "outputs": [],
   "source": [
    "# Array containing the particle positions\n",
    "pos = np.transpose(np.array([data[\"StgX\"], data[\"StgY\"]]))\n",
    "\n",
    "# Calculate distances\n",
    "nbrs = NearestNeighbors(n_neighbors=2, algorithm='ball_tree').fit(pos)\n",
    "distances, indices = nbrs.kneighbors(pos)\n",
    "\n",
    "#print(indices)\n",
    "#print(distances[:,1])\n",
    "data[\"Dist\"] = distances[:,1]*1000"
   ]
  },
  {
   "cell_type": "code",
   "execution_count": 4,
   "metadata": {
    "collapsed": false
   },
   "outputs": [
    {
     "name": "stdout",
     "output_type": "stream",
     "text": [
      "Median interparticle distance: 9.0 um\n",
      "Fraction of particles further than 75 um apart: 0.0%\n"
     ]
    }
   ],
   "source": [
    "dist_N = data['Dist'].between(dist_required, max(data[\"Dist\"]), inclusive=True)\n",
    "dist_N = len(dist_N[dist_N==True])/len(data)*100\n",
    "\n",
    "print(\"Median interparticle distance: \"+str(np.median(data[\"Dist\"]))+\" um\")\n",
    "print(\"Fraction of particles further than \"+str(dist_required)+\" um apart: \"+str(dist_N)+\"%\")"
   ]
  },
  {
   "cell_type": "code",
   "execution_count": null,
   "metadata": {
    "collapsed": true
   },
   "outputs": [],
   "source": []
  }
 ],
 "metadata": {
  "anaconda-cloud": {},
  "kernelspec": {
   "display_name": "Python 3",
   "language": "python",
   "name": "python3"
  },
  "language_info": {
   "codemirror_mode": {
    "name": "ipython",
    "version": 3
   },
   "file_extension": ".py",
   "mimetype": "text/x-python",
   "name": "python",
   "nbconvert_exporter": "python",
   "pygments_lexer": "ipython3",
   "version": "3.6.0"
  }
 },
 "nbformat": 4,
 "nbformat_minor": 2
}
