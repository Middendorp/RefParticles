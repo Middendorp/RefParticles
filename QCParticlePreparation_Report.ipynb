{
 "cells": [
  {
   "cell_type": "markdown",
   "metadata": {},
   "source": [
    "# Improved Preparation of Uranium Microparticles as Particle QC Material\n",
    "\n",
    "Authors:\n",
    "\n",
    "M. Dürr\n",
    "\n",
    "R. Middendorp\n",
    "\n",
    "Forschungszentrum Jülich GmbH IEK-6: Nuclear Waste Management and Reactor Safety 52428 Jülich, Germany\n",
    "\n",
    "Version History:\n",
    "\n",
    "    17-03-07 - Created Notebook - adapted from \"PA search reference Particle.ipynb\"\n",
    "    17-03-15 - New Title"
   ]
  },
  {
   "cell_type": "markdown",
   "metadata": {},
   "source": [
    "## Purpose and Scope\n",
    "\n",
    "\n",
    "\n",
    "Th report describes the production settings and provides the details obtained from characterization of the substrates performed with the Scanning Electron Microscope at the IEK-6."
   ]
  },
  {
   "cell_type": "markdown",
   "metadata": {},
   "source": [
    "## Introduction\n",
    "\n",
    "The analysis of environmental swipe samples involves the so-called particle analysis, where individual particles collected during sampling are analyzed with micro analytical methods. Here, mass spectrometric analysis of uranium isotopic compositions has become a routine technique applied for the verification and monitoring of nuclear safeguards agreements. The International Atomic Energy Agency undertakes the particle analysis of safeguards samples within a Network of Analytical Laboratories (NWAL) of accredited laboratories.  \n",
    "Dedicated test samples are used for the purpose of quality control (QC) and quality assurance (QA). To this end a particle production process was developed, established and characterized to deliver uranium micro particles. Such particle QC materials are used as a base material to design QC test samples for calibration, internal QC, external QC or interlaboratory comparisons.\n",
    "\n",
    "The particle production setup delivers monodisperse uranium oxide particles $U_{3}O_{8}$ of isotopic composition determined by the input feed material. Two production test runs were performed, the first using input feed solution prepared from IRMM-183 (depleted uranium) and a second prepared from IRMM-023 (low-enriched uranium). Particles had been deposited on flat and polished glass carbon substrates (GC planchets) which is the substrate of choice for highly sensitive analytical methods. The substrates had been tested by the IAEA using LG-SIMS mass spectrometry which lead to following findings:\n",
    "\n",
    "* On particles produced in the second run (LEU), the LG-SIMS analysis of planchets detected uranium signals with a differing isotopic composition (DU). It is presumed that these traces result from previous production runs. The signals are detected on a localized area (circular pattern). There are traces of uranium detected by LG-SIMS with a low count rate of DU. These signals represent a background contribution of uranium traces which, however, do not stem from the actual mono disperse particles. Instead, the background contribution appears is attributed to highly minute deposits, which are only detectable using the highly sensitive LG-SIMS.\n",
    "\n",
    "* The direct deposition of particles on the the GC planchet using an inertial impactor was used in the production test runs. This leads to a spatial particle deposition pattern. The particle loading density varies with the radial distance from the center of the deposition pattern. It would be desirable to have the particles homogeneously distributed over the particle substrate.\n",
    "\n",
    "* Each substrate was deposited over a duration of several minutes, and a series of ca. 50 substrates was loaded with particles with the interial impaction technique. The direct deposition is considered to be not sufficiently homogeneous in between substrates.\n",
    "\n",
    "These findings led to the development of following mitigation strategy:\n",
    "\n",
    "* The 'memory effect', i.e. the deposit of uranium traces from previous production runs, is mitigated by undertaking cleaning and replacement of parts of the system prior to each production run for a selected isotopic composition of the input feed solution.\n",
    "\n",
    "* An alternative deposition technique by deposition of particles is tested. Particles are produced and collected on a substrate. The collected particles and then transfered into a solution which is then applied onto flat substrates and dried. This deposition technique allows for a better control of particle density and also permits the preparation of particle mixtures. As an additional advantage, the particle deposition is perfomed as a subsequent step to particle production which allows for a better control of the deposition process.\n",
    "\n",
    "This report describes the particle producation and preparation of test substrates performed in the first quarter of 2017 and the results from in-house characterization using the scanning electron microscope."
   ]
  },
  {
   "cell_type": "markdown",
   "metadata": {},
   "source": [
    "## Identification and Localization of Cross-Contamination Sources\n",
    "\n",
    "Measurements were performed by taking swipe samples from different locations of the system and the sorrounding environment.\n",
    "\n",
    "### Swipe Control - Samples\n",
    "\n",
    "Identification with ICP-MS\n",
    "\n",
    "### Contamination within Impactor\n",
    "\n",
    "### Cleaning of the Particle Production System\n",
    "\n",
    "Some parts of the setup like pipes and tubings can be easily replaced. Others can be cleaned by solvents and/or by swiping away residues with cotton wipes. Following Parts were replaced:\n",
    "\n",
    "* Syringe (A)\n",
    "* Orifice (B)\n",
    "* Aerosol Heater (C)\n",
    "* Connectors (D)\n",
    "* Impactors (E)\n",
    "\n",
    "\n",
    "Following parts were cleaned ind nitric acid and water:\n",
    "\n",
    "* Drying column (1)\n",
    "* Virtual impactor (2)\n",
    "* Cooling (3)\n",
    "* Tubings (4)\n",
    "\n",
    "The Letters/Numbers in brackets are the labels in the schematic view of the particle production in Figure XXX)\n",
    "\n",
    "[Schematic layout of the particle production system]<img src = \"QCParticlePreparation_Report/Figures/LayoutPPsetup.png\" width = 600 px>\n",
    "\n",
    "### Swipe Control - Samples\n",
    "\n"
   ]
  },
  {
   "cell_type": "markdown",
   "metadata": {},
   "source": [
    "## Particle Production Parameters\n",
    "\n",
    "### Preparation of the Input Feed Solutions\n",
    "\n",
    "The input feed solutions were prepared from $U_{3}O_{8}$  NBL-129A CRM. The certified isotopic ratios (atopm ratio) of uranium are:\n",
    "\n",
    "| $U_{234} / U_{238}$ | $U_{235} / U_{238}$ | $U_{236} / U_{238}$ |\n",
    "|---------------------|---------------------|---------------------|\n",
    "|     0.000053350     |     0.0072614       |     0.000000097     |\n",
    "|$\\pm$0.000000039     |$\\pm$0.0000039       |$\\pm$0.000000012     |\n",
    "\n",
    "The numerical uncertainties are expressed as expanded uncertainties (U) at the 95% level of confidence, where\n",
    "U = kuc, k is the coverage factor, and uc is the combined standard uncertainty.\n",
    "\n",
    "are  through dissolution in $HNO_{3}$\n",
    "\n",
    "### Particle Production\n",
    "\n",
    "### U Amount Per Particle"
   ]
  },
  {
   "cell_type": "markdown",
   "metadata": {},
   "source": [
    "## Preparation of Particle Suspensions\n",
    "\n",
    "During the particle production run, a particle suspension was prepared from particles collected onto a 1\" Si-substrate. Particle deposits were clearly visible through visual inspection by eye. The substrate was immersed in XX ml high purity grade ethanol for XX minutes. Then a first test was made using Si-wafer specimens  in which different amounts of the suspension was dried on the surface. The substrates are in a glass beaker on a hotplate set to 50 °C heating temperature. The tests allow to determine the amount of suspension which needs to be dried on the surface to reach sufficient particle density. After the initial tests, XX ml of particle suspension was applied onto a GC planchet which was slowly dried while adding the suspension onto the surface with a pipette."
   ]
  },
  {
   "cell_type": "markdown",
   "metadata": {},
   "source": [
    "## Substrate Preparation and Characterization\n",
    "\n",
    "### List of prepared substrates\n",
    "\n",
    "No. | Sample ID | Description | CRM        |  Substrate\n",
    "----|-----------|-------------|------------|-----------\n",
    "1   |SG170216_02| Direct deposition of particles | NBL-129A | GC\n",
    "2   |SG170216_03| Direct deposition of particles with substrate remaining in impactor | NBL-129A | GC\n",
    "3   |SG170216_06| Particles prepared out of suspension | NBL-129A | GC\n",
    "4   |SG170216_07| Particle mixture prepared out of suspension | NBL-129A +  IRMM-183 | GC\n",
    "5   |t.b.d.     | First substrate after cleaning | NBL-129A | Si-wafer (10x10 mm)"
   ]
  },
  {
   "cell_type": "markdown",
   "metadata": {
    "collapsed": true
   },
   "source": [
    "### SEM Particle Search\n",
    "\n",
    "Raw data of the particle search consists of\n",
    "\n",
    "* Acquired SEM images\n",
    "* Particle Analysis resutst in a .csv File (e.g. stub01.csv)\n",
    "* Aquired EDX spectrum of each particle as a .spc file\n",
    "\n",
    "The particle search routine scans the substrate by acquiring a series of SEM-images in a predetermined scan pattern. Particles are detected using digital image processing for each individual image. An spot measurement EDX spectrum is acquired for each detected particle. The EDX spectrum is processed using the ZAF method for an elemental analysis. For each particle following parameters are stored:\n",
    "\n",
    "* Particle number (Part#)\n",
    "* Field number (Field#)\n",
    "* Coordinates of the SEM sample stage located at image centre (X_stage, Y_stage) in [µm]\n",
    "* Location of the particle in recorded field (X_cent, Y_cent) in [px] \n",
    "* Coordinates of the Particle in the SEM-stage coordinate system (StgX, StgY)in [mm]\n",
    "* Average diameter (AvgDiam) in [µm]\n",
    "* ZAF Elemental composition (CK, OK, AlK, SiK, UM) in [wt%]"
   ]
  },
  {
   "cell_type": "markdown",
   "metadata": {
    "collapsed": true
   },
   "source": [
    "### Reference Marks\n",
    "\n",
    "Three marks were scribed onto the surface of the GC planchets to provide reference coordinates which can be used to reference the particle locations. These markes form a triangle and are positioned around the centre of the circular planchet. When the inertial impactor is used particles are deposited onto a circle of ca. 12 mm in diameter and the markers are arranged at a circle slightly larger than the 12 mm diameter such that particles are not deposited onto the markers. The markings are made in the shapes of a 'I', 'T' and 'X' such that they can be distiguished from each other when visually inspecting the substrate.\n",
    "\n",
    "#### Marker Coordinates in SEM Particle Search\n",
    "\n",
    "Prior to initiating the particle search programme, images of the markers were recorded with the SEM. Operation paramters of the SEM are stored in the footer of the images in plain-text. In the footer the coordinates of the stage holder can be extracted. As the stage coordinates are also used by the particle search routine to determine the particle location, the marker locations can be determined from the images and the stage location. As the markings are fairly large when viewed at the the high-magnification of the SEM, a reference point was annotated in the images which is used to express the location in SEM sample stage coordinates. \n",
    "\n",
    "The annotated images are stored in the subfolder `/refmarkers`, Figure XXX shows examples of the images.\n",
    "\n",
    "[pic]<img src = \"QCParticlePreparation_Report/Figures/Markers_SG170216_02.png\" width = 800 px>"
   ]
  },
  {
   "cell_type": "markdown",
   "metadata": {
    "collapsed": true
   },
   "source": [
    "### Interactive Plotting\n",
    "\n",
    "For each substrate for which particle analysis data is available, interactive plots were generated. The top-left and top-right diagram show the particle locations determined by the SEM particle search. Each circle represents a particle as identified by the SEM particle search and the diameter of the circle scales with the average diameter of the particle. This way, large particles and agglomerates can be easily spotted in the overview.\n",
    "The top-left diagram is interactive and by selecting the according tool at the toolbar at the right-hand side allows to zoom in or to select  group of particles (box- or lasso-select tool). The top-right shows an overview of the planchet at the zoom window selected on the top-left plot is shown in the diagramm. The marker locations are indicated by violett crosses and on the top-right plot the marker shape and coordinates are displayed when the mouse arrow hovers above the marker cross. The bottom plot shows a scatter plot of the uranium content as determined by EDX vs. the Average Diameter determined from the particle search.\n",
    "\n",
    "All plots share the same datasource, such that a selection in one of the plots highlights the same data at the others. This feature allows to search the particles with specific features, e.g. by selecting particles with a specific diameter. In addition, a SEM-image thumbnail of the particle is displayed along with additional particle data when the mouse hovers above the respective data point."
   ]
  },
  {
   "cell_type": "markdown",
   "metadata": {},
   "source": [
    "### Particle Caracteristics\n",
    "\n",
    "Statistics: Number of agglomerated particles, number of single/double particles, neirest neighbour distance\n",
    "\n",
    "#### Particle Characteristics\n",
    "\n",
    "\n",
    "#### No of particles per planchet"
   ]
  },
  {
   "cell_type": "markdown",
   "metadata": {},
   "source": [
    "### SEM/EDX Analysis of Residues on Sample SG170216_06\n",
    "\n",
    "Particles on this substrate were deposited by drying of a particle suspension. After drying dried residues are visible. The region on the substrate was inspected with the SEM on the substrate. Images were recorded using the backscatter and the secondary electron detector at magnification 150 and 600. In the BS images uranium particles are visible as high-Z materials have a higher contrast in this imaging mode. The residues become visible after adjusting the brightness of the image in the BS mode and more clearly in the SE imaging mode. In addition two spot EDX measurements were performed to determine the elemental composition of the residue material. The EDX-spectra of the two spots taken at locations of visible residue show the presence of elements C, O, Si, Al and F.\n",
    "\n",
    "[pic]<img src = \"QCParticlePreparation_Report/Figures/MontageResidues.png\" width = 800 px>\n",
    "\n",
    "[]<img src = \"QCParticlePreparation_Report/Figures/SG170216_06/SG170216_02_s002_EDX01.png\" width = 800 px>\n",
    "[]<img src = \"QCParticlePreparation_Report/Figures/SG170216_06/SG170216_02_s002_EDX02.png\" width = 800 px>\n",
    "\n",
    "Uranium microparticles can still be identified in the region were residue is apparent. The residues appear to be few microns thick and no dust background was found. Presumably, these residues stem from the vial in which the particles were rinsed of the substrate or from the Si substrate itself and may result from residual detergents of solvents in the vial/substrate."
   ]
  },
  {
   "cell_type": "markdown",
   "metadata": {},
   "source": [
    "### Substrate\n",
    "\n",
    "#### Substrate Labeling\n",
    "\n",
    "The GC substrates have markings on both sides: The side containing the particles has three markers engraved as reference markers for particle localization. The backside has the sample number engraved as a labeling, i.e. `02` for sample SG170216_06.\n",
    "\n",
    "#### Substrate Containers\n",
    "\n",
    "Every substrate (GC planchet or Si wafer specimen) is placed in a wafer carrier tray. The tray is opened by turning the lid **clock-wise**. The planchet surface on which the particles are deposited is facing the base of the tray which has a convex shape. Therefore the surface of the substrate does **not** come into contact with the base of the wafer carrier. The opposite side of the planchets, which is the uncoated ‘back-side’, faces towards the lid.\n",
    "\n",
    "The sample ID is written on the back-side of the wafer carrier.\n",
    "\n",
    "#### Bagging\n",
    "\n",
    "The wafer carrier holding the substrate is bagged in a sealed polyethylen bag, whith an additional label of the sample ID.\n",
    "\n",
    "[Bagged Samples]<img src = \"QCParticlePreparation_Report/Figures/BaggedWaferCarrier.png\" width = 600 px>\n",
    "\n",
    "The entire shipment of samples is bagged in a additional bag, which is screened for radioactive contamination with a contamination monitor. "
   ]
  },
  {
   "cell_type": "markdown",
   "metadata": {},
   "source": [
    "## Summary"
   ]
  },
  {
   "cell_type": "markdown",
   "metadata": {},
   "source": [
    "## Annex"
   ]
  },
  {
   "cell_type": "markdown",
   "metadata": {},
   "source": [
    "### Directory Structure of Data Files"
   ]
  },
  {
   "cell_type": "code",
   "execution_count": null,
   "metadata": {
    "collapsed": true
   },
   "outputs": [],
   "source": [
    "    "
   ]
  }
 ],
 "metadata": {
  "kernelspec": {
   "display_name": "Python 3",
   "language": "python",
   "name": "python3"
  },
  "language_info": {
   "codemirror_mode": {
    "name": "ipython",
    "version": 3
   },
   "file_extension": ".py",
   "mimetype": "text/x-python",
   "name": "python",
   "nbconvert_exporter": "python",
   "pygments_lexer": "ipython3",
   "version": "3.5.2"
  }
 },
 "nbformat": 4,
 "nbformat_minor": 0
}
